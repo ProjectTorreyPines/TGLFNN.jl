{
 "cells": [
  {
   "cell_type": "code",
   "execution_count": 3,
   "metadata": {},
   "outputs": [],
   "source": [
    "using ONNXNaiveNASflux\n",
    "using TGLFNN\n",
    "\n",
    "filename = \"sat0quench_em_ukstep_azf+1.bson\"\n",
    "fname = split(filename, \".\")[1]\n",
    "ensemble = TGLFNN.loadmodel(filename)\n",
    "\n",
    "# Create directory if it doesn't exist\n",
    "model_dir = \"../models/$fname\"\n",
    "if !isdir(model_dir)\n",
    "    mkpath(model_dir)\n",
    "end\n",
    "\n",
    "# Extract flux models and xnames\n",
    "fluxmodels = [model.fluxmodel for model in ensemble.models]\n",
    "xnames = ensemble.models[1].xnames\n",
    "\n",
    "# Save each model in ONNX format\n",
    "for i in 1:length(fluxmodels)\n",
    "    onnx_path = \"$model_dir/$(fname)_model_$i.onnx\"\n",
    "    save(onnx_path, fluxmodels[i])\n",
    "end\n",
    "\n",
    "# Save xnames to a single text file\n",
    "xnames_path = \"$model_dir/xnames.txt\"\n",
    "open(xnames_path, \"w\") do f\n",
    "    for name in xnames\n",
    "        write(f, \"$name\\n\")\n",
    "    end\n",
    "end"
   ]
  },
  {
   "cell_type": "code",
   "execution_count": null,
   "metadata": {},
   "outputs": [],
   "source": []
  }
 ],
 "metadata": {
  "kernelspec": {
   "display_name": "Julia 1.10.0",
   "language": "julia",
   "name": "julia-1.10"
  },
  "language_info": {
   "file_extension": ".jl",
   "mimetype": "application/julia",
   "name": "julia",
   "version": "1.10.0"
  }
 },
 "nbformat": 4,
 "nbformat_minor": 2
}
